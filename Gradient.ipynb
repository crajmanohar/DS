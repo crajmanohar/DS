{
 "cells": [
  {
   "cell_type": "markdown",
   "metadata": {},
   "source": [
    "<h3>Gradient Desent </h3>\n",
    "<h4>How Gradient Works</h4>\n",
    "1)Gradeant alogoritam Gradent desent algoritham is one optimizer"
   ]
  },
  {
   "cell_type": "code",
   "execution_count": null,
   "metadata": {},
   "outputs": [],
   "source": [
    "import numpy as np"
   ]
  },
  {
   "cell_type": "code",
   "execution_count": null,
   "metadata": {},
   "outputs": [],
   "source": [
    "x =np.c_[np.arange(5)+1]\n",
    "ones=np.ones(5)\n",
    "X=np.c_[ones,x]\n",
    "y=[3,5,7,11,14]\n",
    "Y=np.c_[y]\n",
    "beta=np.c_[np.zeros(X.shape[1])]\n",
    "print(X)\n",
    "print(Y)\n"
   ]
  },
  {
   "cell_type": "code",
   "execution_count": null,
   "metadata": {},
   "outputs": [],
   "source": [
    "\n"
   ]
  },
  {
   "cell_type": "code",
   "execution_count": null,
   "metadata": {},
   "outputs": [],
   "source": [
    "\n",
    "\n",
    "def predict(x,b):\n",
    "    return x.dot(b)\n",
    "\n",
    "def mse(y,ycap):\n",
    "    return ((y-ycap)**2).mean()\n",
    "\n",
    "def derivative(x,y,b):\n",
    "    ycap=predict(x,b)\n",
    "    return(x.T.dot(y-ycap))/ y.size\n",
    "    "
   ]
  },
  {
   "cell_type": "code",
   "execution_count": null,
   "metadata": {},
   "outputs": [],
   "source": [
    "a =predict(X,beta)\n",
    "a\n",
    "b=mse(Y,a)\n",
    "b\n"
   ]
  },
  {
   "cell_type": "code",
   "execution_count": null,
   "metadata": {},
   "outputs": [],
   "source": [
    "delta= derivative(X,Y,beta)\n",
    "delta"
   ]
  },
  {
   "cell_type": "code",
   "execution_count": null,
   "metadata": {},
   "outputs": [],
   "source": [
    "a1 =predict(X,delta*0.05)\n",
    "a1\n",
    "b=mse(Y,a1)\n",
    "b"
   ]
  },
  {
   "cell_type": "code",
   "execution_count": null,
   "metadata": {},
   "outputs": [],
   "source": [
    "def modelFir(x,y,itr,alpha,cov=0.0000001):\n",
    "    beta=np.c_[np.zeros(X.shape[1])]\n",
    "    perr=0\n",
    "    for i in range(itr):\n",
    "        ycap= predict(x,beta)\n",
    "        cerr= mse(y,ycap)\n",
    "        diff=np.abs(cerr-perr)\n",
    "        print(diff)\n",
    "        #cerr +=cerr-perr\n",
    "        if i%50==0:\n",
    "            print(\"Current errot\",cerr ,'at',i+1,'position')\n",
    "        j=0\n",
    "        if diff<=cov:\n",
    "            print('Training Completed',i+1,'Th iteration')\n",
    "            j=1\n",
    "            break\n",
    "            \n",
    "        delta = derivative(x,y,beta)\n",
    "        beta+=alpha*delta\n",
    "        perr=cerr\n",
    "        \n",
    "    if j==0:\n",
    "          print(\"Trinig not completed\")\n",
    "    \n",
    "    return beta\n",
    "    "
   ]
  },
  {
   "cell_type": "code",
   "execution_count": null,
   "metadata": {},
   "outputs": [],
   "source": [
    "value=modelFir(X,Y,100000,0.05,0.00000000001)\n",
    "\n"
   ]
  },
  {
   "cell_type": "code",
   "execution_count": null,
   "metadata": {},
   "outputs": [],
   "source": []
  },
  {
   "cell_type": "code",
   "execution_count": null,
   "metadata": {},
   "outputs": [],
   "source": []
  }
 ],
 "metadata": {
  "kernelspec": {
   "display_name": "Python 3",
   "language": "python",
   "name": "python3"
  },
  "language_info": {
   "codemirror_mode": {
    "name": "ipython",
    "version": 3
   },
   "file_extension": ".py",
   "mimetype": "text/x-python",
   "name": "python",
   "nbconvert_exporter": "python",
   "pygments_lexer": "ipython3",
   "version": "3.7.4"
  }
 },
 "nbformat": 4,
 "nbformat_minor": 2
}
